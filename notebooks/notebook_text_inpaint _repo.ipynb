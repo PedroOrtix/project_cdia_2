{
  "cells": [
    {
      "cell_type": "markdown",
      "metadata": {},
      "source": [
        "## Instalación de las dependencias"
      ]
    },
    {
      "cell_type": "code",
      "execution_count": null,
      "metadata": {
        "colab": {
          "base_uri": "https://localhost:8080/"
        },
        "collapsed": true,
        "id": "7xpRUzAPzkMI",
        "outputId": "30c2549b-21f5-407a-d5d8-59518992d810"
      },
      "outputs": [],
      "source": [
        "!git clone https://github.com/PedroOrtix/project_cdia_2.git\n",
        "%cd project_cdia_2\n",
        "!pip install -r requirements.txt -q\n",
        "!pip install \"jax[cuda12_pip]==0.4.23\" -f https://storage.googleapis.com/jax-releases/jax_cuda_releases.html -q"
      ]
    },
    {
      "cell_type": "markdown",
      "metadata": {},
      "source": [
        "### ⚠️ Recomendación: Si estás usando Google Colab, reinicia el entorno de ejecución después de instalar las dependencias para evitar conflictos\n"
      ]
    },
    {
      "cell_type": "code",
      "execution_count": null,
      "metadata": {
        "colab": {
          "base_uri": "https://localhost:8080/"
        },
        "id": "3Y7Kn--pZnqQ",
        "outputId": "ce56cf10-6cb0-4ab1-9a34-938d9d004ecb"
      },
      "outputs": [],
      "source": [
        "%cd project_cdia_2"
      ]
    },
    {
      "cell_type": "code",
      "execution_count": null,
      "metadata": {},
      "outputs": [],
      "source": [
        "!mkdir -p images\n",
        "from google.colab import files\n",
        "import os\n",
        "import shutil\n",
        "\n",
        "# Subir archivo\n",
        "print(\"Por favor, selecciona una imagen para procesar...\")\n",
        "uploaded = files.upload()\n",
        "\n",
        "# Obtener el nombre del archivo subido (será el primero y único)\n",
        "uploaded_filename = list(uploaded.keys())[0]\n",
        "\n",
        "# Copiar y renombrar el archivo a dni.jpg\n",
        "shutil.copy(uploaded_filename, 'images/dni.jpg')\n",
        "print(f\"\\n✅ Imagen '{uploaded_filename}' copiada como 'dni.jpg' en el directorio images/\")\n",
        "\n",
        "# Eliminar el archivo original subido\n",
        "os.remove(uploaded_filename)\n"
      ]
    },
    {
      "cell_type": "code",
      "execution_count": null,
      "metadata": {},
      "outputs": [],
      "source": [
        "from src.run import process_document_image\n",
        "\n",
        "resultados = process_document_image(\n",
        "    input_image_path=\"images/dni.jpg\",\n",
        "    output_dir=\"images/resultados\",\n",
        "    steps=30,\n",
        "    guidance_scale=2.0,\n",
        "    batch_size=10,\n",
        "    height = 512,\n",
        "    width = 512,\n",
        "    save_all_versions=True,\n",
        "    show_comparison=True,\n",
        "    save_zip = True\n",
        ")\n",
        "\n",
        "# Imprimir las rutas de las imágenes generadas\n",
        "print(\"Imágenes generadas:\")\n",
        "for ruta in resultados:\n",
        "    print(f\" - {ruta}\")"
      ]
    }
  ],
  "metadata": {
    "accelerator": "GPU",
    "colab": {
      "gpuType": "T4",
      "provenance": []
    },
    "kernelspec": {
      "display_name": "Python 3",
      "name": "python3"
    },
    "language_info": {
      "codemirror_mode": {
        "name": "ipython",
        "version": 3
      },
      "file_extension": ".py",
      "mimetype": "text/x-python",
      "name": "python",
      "nbconvert_exporter": "python",
      "pygments_lexer": "ipython3",
      "version": "3.11.10"
    }
  },
  "nbformat": 4,
  "nbformat_minor": 0
}
